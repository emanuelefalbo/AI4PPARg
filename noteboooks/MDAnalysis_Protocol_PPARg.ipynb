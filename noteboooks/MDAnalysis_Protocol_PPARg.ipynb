{
 "cells": [
  {
   "cell_type": "code",
   "execution_count": null,
   "id": "0be199b2",
   "metadata": {},
   "outputs": [],
   "source": [
    "from MDAnalysis.analysis import distances\n",
    "import MDAnalysis as mda\n",
    "from MDAnalysis.analysis import rms, align\n",
    "\n",
    "import matplotlib.pyplot as plt\n",
    "from matplotlib.gridspec import GridSpec\n",
    "%matplotlib inline\n",
    "import numpy as np\n",
    "from numpy.linalg import norm\n",
    "import scipy as sp\n",
    "\n",
    "import seaborn as sns ; sns.set_style(\"white\")\n",
    "import pandas as pd\n",
    "\n",
    "import warnings\n",
    "# suppress some MDAnalysis warnings when writing PDB files\n",
    "warnings.filterwarnings('ignore')\n",
    "\n",
    "%load_ext autoreload\n",
    "%autoreload 2"
   ]
  },
  {
   "cell_type": "code",
   "execution_count": null,
   "id": "7411811c-1e79-472e-ac40-a1166298d281",
   "metadata": {},
   "outputs": [],
   "source": []
  },
  {
   "cell_type": "code",
   "execution_count": null,
   "id": "63a7270d-8a3a-43b1-9a7a-0c401df2b018",
   "metadata": {},
   "outputs": [],
   "source": [
    "#Do mpl ssettings\n",
    "plt.rcParams['axes.linewidth']=0.8\n",
    "plt.rcParams['axes.labelweight']='bold'\n",
    "plt.rcParams['figure.max_open_warning'] = 100\n",
    "plt.rcParams['axes.labelpad']=2\n",
    "plt.rcParams['axes.formatter.useoffset']=False\n",
    "plt.rcParams['font.weight']='bold'\n",
    "plt.rcParams['xtick.major.pad']=1\n",
    "plt.rcParams['ytick.major.pad']=1\n",
    "plt.rcParams['xtick.labelsize']=8\n",
    "plt.rcParams['ytick.labelsize']=8\n",
    "plt.rcParams['lines.markersize']=8\n",
    "plt.rcParams['axes.titlepad']=1\n",
    "# # dark gray, dim gray ,  dark cyan  ; cyan\n",
    "# gr='#a9a9a9' ; Gr='#696969' ; dc='#008b8b' ;  cy ='#00ffff' ; gn=\"#00ff00\"\n",
    "# Ex='#3232cd' ; In='red'     ; Ad='#ff00ff'\n",
    "\n",
    "#DO seaborn settings\n",
    "mysets = {'lines.linewidth': 1.0, 'lines.markersize': 10}                  \n",
    "sns.set_context(\"paper\", rc = mysets)  \n",
    "plt.style.use('classic')\n",
    "\n",
    "plot_kwds = {'alpha' : 1.0, 's' : 80, 'linewidths':0}"
   ]
  },
  {
   "cell_type": "markdown",
   "id": "38f622a6",
   "metadata": {},
   "source": [
    "loading trajectory and topology "
   ]
  },
  {
   "cell_type": "code",
   "execution_count": null,
   "id": "8189de69",
   "metadata": {},
   "outputs": [],
   "source": [
    "!pwd"
   ]
  },
  {
   "cell_type": "code",
   "execution_count": null,
   "id": "2209c84f",
   "metadata": {},
   "outputs": [],
   "source": [
    "!ls"
   ]
  },
  {
   "cell_type": "code",
   "execution_count": null,
   "id": "e43bc808",
   "metadata": {},
   "outputs": [],
   "source": [
    "#u = mda.Universe('2GIV_ZAFF_solv_mod.prmtop', '03_Prod_compressed.trr')\n",
    "u = mda.Universe('coavppar_agoinv.prmtop', '04_Prod_1.nc','04_Prod_2.nc', '04_Prod_3.nc', \n",
    "                 '04_Prod_4.nc', '04_Prod_5.nc', '04_Prod_6.nc')\n",
    "# u = mda.Universe('2ath_fixed.pdb')"
   ]
  },
  {
   "cell_type": "code",
   "execution_count": null,
   "id": "d91c72fa",
   "metadata": {},
   "outputs": [],
   "source": [
    "def get_dist_type1(u, mask_A, mask_B):\n",
    "    dist_AB = []\n",
    "    for ts in u.trajectory:\n",
    "        a1 = u.select_atoms(mask_A)\n",
    "        a2 = u.select_atoms(mask_B)\n",
    "        resids1, resids2, dist = distances.dist(a1, a2, offset=0)  \n",
    "        dist_AB.append(dist)\n",
    "        \n",
    "    dist_AB = np.asarray(dist_AB)\n",
    "    dist_AB = np.reshape(dist_AB, (-1))\n",
    "    return dist_AB\n",
    "\n",
    "def get_dist_type2(u, mask_A, mask_B):\n",
    "    dist_AB = []\n",
    "    for ts in u.trajectory:\n",
    "        a1 = u.select_atoms(mask_A)\n",
    "        a2 = u.select_atoms(mask_B)\n",
    "        cog1 = a1.center_of_geometry()\n",
    "        cog2 = a2.center_of_geometry()\n",
    "        \n",
    "        # Calculate distances between cog1 and cog2\n",
    "        dist = np.linalg.norm(cog1 - cog2)\n",
    "        # resids1, resids2, dist = distances.dist(a1, a2, offset=0)  \n",
    "        dist_AB.append(dist)\n",
    "        \n",
    "    dist_AB = np.asarray(dist_AB)\n",
    "    dist_AB = np.reshape(dist_AB, (-1))\n",
    "    return dist_AB"
   ]
  },
  {
   "cell_type": "markdown",
   "id": "8ed809e1",
   "metadata": {},
   "source": [
    "<!-- Getting distances as features FOR  antaAGONIST:     \n",
    "H-BOND -> GLN 283 - SER 464  -> HE22 - O  \n",
    "Salt-Bridge -> ARG288 - O = -> HH21 - O38       -->"
   ]
  },
  {
   "cell_type": "code",
   "execution_count": null,
   "id": "f5925a4b-e245-4cc4-abed-bbbddce8b2ee",
   "metadata": {},
   "outputs": [],
   "source": [
    "[print(i) for i in u.select_atoms(\"resname EKP\")]\n",
    "# cog = u.select_atoms(\"resid 135 and (name H)\")\n",
    "# cog.center_of_geometry()"
   ]
  },
  {
   "cell_type": "code",
   "execution_count": null,
   "id": "ea276520-a304-4b4e-9bb1-5b4bb0c4ec26",
   "metadata": {},
   "outputs": [],
   "source": [
    "# [print(i) for i in u.select_atoms(\"resid 86 and (name CD1 CE1 CZ CE2 CD2 CG)\")]\n",
    "[print(i) for i in u.select_atoms(\"resid 83 and (name CD1 CE1 CZ CE2 CD2 CG)\")]\n",
    "[print(i) for i in u.select_atoms(\"resname EKP and (name C01 C02 C03 C04 C05 C06)\")]"
   ]
  },
  {
   "cell_type": "code",
   "execution_count": null,
   "id": "39e560ca-a07d-40ff-8d97-923d44105fe3",
   "metadata": {},
   "outputs": [],
   "source": [
    "# mask_A='resname EPK and (name N3)'\n",
    "# mask_B='resid 269 and (name HH)'\n",
    "# dist_1_hb = get_dist_type1(u, mask_A, mask_B)\n",
    "\n",
    "# mask_A='resid 82 and (name HE22)'\n",
    "# mask_B='resid 263 and (name O)'\n",
    "# dist_2_hb = get_dist_type1(u, mask_A, mask_B)\n",
    "\n",
    "mask_A='resid 83 and (name CD1 CE1 CZ CE2 CD2 CG)'\n",
    "mask_B='resname EKP and (name C01 C02 C03 C04 C05 C06)'\n",
    "dist_1_pipi = get_dist_type2(u, mask_A, mask_B)\n",
    "\n",
    "# mask_A='resid 267 and (name HH)'\n",
    "# mask_B='resname 3EA and (name O30)'\n",
    "# dist_2_hb = get_dist_type1(u, mask_A, mask_B)"
   ]
  },
  {
   "cell_type": "code",
   "execution_count": null,
   "id": "7eb9ff11",
   "metadata": {},
   "outputs": [],
   "source": [
    "print(dist_1_pipi.mean(), dist_1_pipi.std())\n",
    "# print(dist_2_pipi.mean(), dist_2_pipi.std())\n",
    "# print(dist_1_hb.mean(), dist_1_hb.std())\n",
    "# print(dist_2_hb.mean(), dist_2_hb.std())"
   ]
  },
  {
   "cell_type": "code",
   "execution_count": null,
   "id": "966676b3",
   "metadata": {},
   "outputs": [],
   "source": [
    "# df = pd.DataFrame({'HIS243-PYR': dist_1_pipi, 'HIS243-BENZ':dist_2_pipi,\n",
    "#                    'HB1':dist_1_hb, 'HB2': dist_2_hb})\n",
    "# #df = pd.DataFrame({'Zn-N':dist_Zn_NHID_noise, 'Zn-S':dist_Zn_S3_noise})\n",
    "# df"
   ]
  },
  {
   "cell_type": "code",
   "execution_count": null,
   "id": "8491f6f3-073f-43af-ad0d-51f1828f8a25",
   "metadata": {},
   "outputs": [],
   "source": [
    "fig = plt.figure(figsize=(14, 4), facecolor='w', edgecolor='k', dpi=200)\n",
    "gs = GridSpec(1, 2, figure=fig)\n",
    "\n",
    "ax1 = fig.add_subplot(gs[0])\n",
    "ax1.scatter(np.arange(dist_1_pipi.shape[0]), dist_1_pipi)\n",
    "ax1.set_xlabel('time (x10$^{2}$ ps)')\n",
    "ax1.set_ylabel('PHE$_{287}$-Lig$_{benzene}$ ($\\AA$)')\n",
    "ax1.set_xlim(-100,3100)\n",
    "\n",
    "# ax2 = fig.add_subplot(gs[1])\n",
    "# ax2.scatter(np.arange(dist_1_hb.shape[0]), dist_1_hb)\n",
    "# ax2.set_xlabel('time (x10$^{2}$ ps)')\n",
    "# ax2.set_ylabel('ARG$_{288}$-Lig$_{O38}$ ($\\AA$)')\n",
    "# ax2.set_xlim(-100,3100)\n",
    "\n",
    "# ax3 = fig.add_subplot(gs[2])\n",
    "# ax3.scatter(np.arange(dist_2_hb.shape[0]), dist_2_hb)\n",
    "# ax3.set_xlabel('time (x10$^{2}$ ps)')\n",
    "# ax3.set_ylabel('GLN$_{283}$-SER$_{464}$ ($\\AA$)')\n",
    "# ax3.set_xlim(-100,2700)\n",
    "\n",
    "plt.tight_layout()\n",
    "plt.savefig(\"distances_MD_COFAC_ANTAGO.png\")"
   ]
  },
  {
   "cell_type": "markdown",
   "id": "823d531c-8a1c-4004-8d2e-342e5af6cb51",
   "metadata": {},
   "source": [
    "Load cross-corellation data for conformational changes"
   ]
  },
  {
   "cell_type": "code",
   "execution_count": null,
   "id": "d8533bae-1ba9-4414-8709-17e7602fff91",
   "metadata": {},
   "outputs": [],
   "source": [
    "# d_cross=[]\n",
    "# with open(\"cross-cor_WAGO.dat\", 'r') as file:\n",
    "#     for line in file:\n",
    "#         d_cross.append(line.strip().split())\n",
    "\n",
    "# X_cross= np.asarray(d_cross, dtype=float)"
   ]
  },
  {
   "cell_type": "code",
   "execution_count": null,
   "id": "54ff5e82-17b7-4aec-ac7a-d7325ca7c690",
   "metadata": {},
   "outputs": [],
   "source": [
    "# mask = np.zeros_like(X_cross)\n",
    "# mask[np.triu_indices_from(mask)] = True\n",
    "\n",
    "# # Set up the matplotlib figure\n",
    "# f, ax = plt.subplots(figsize=(10, 6), dpi=100, facecolor=\"w\")\n",
    "# cmap = sns.diverging_palette(220, 10, as_cmap=True)\n",
    "# # sns.heatmap(X_cross, mask=mask, cmap=cmap, vmax=.3,\n",
    "# #             square=True, xticklabels=15, yticklabels=10,\n",
    "# #             linewidths=.5, cbar_kws={'shrink': 0.8})\n",
    "\n",
    "# sns.heatmap(X_cross, mask=mask, cmap=cmap, square=True, xticklabels=15, yticklabels=10, cbar_kws={'shrink': 1.0})\n",
    "# # sns.heatmap(X_cross, cmap='viridis', square=True, cbar_kws={'shrink': 0.5})\n",
    "# plt.xlabel(\"no. Residues\")\n",
    "# plt.ylabel(\"no. Residues\")\n",
    "# plt.xticks(rotation=50)\n",
    "# # plt.savefig(\"heatmap_crosscorr.png\")"
   ]
  },
  {
   "cell_type": "markdown",
   "id": "ecfdc6d6-9296-45ec-afd4-6fb2fd61158c",
   "metadata": {},
   "source": [
    "Computing RMSF"
   ]
  },
  {
   "cell_type": "code",
   "execution_count": null,
   "id": "e771926d-3603-4b82-89ac-94370a4a352a",
   "metadata": {},
   "outputs": [],
   "source": [
    "average = align.AverageStructure(u, u, select='protein and name CA',\n",
    "                                 ref_frame=0).run()\n",
    "ref = average.results.universe\n",
    "\n",
    "aligner = align.AlignTraj(u, ref,\n",
    "                          select='protein and name CA',\n",
    "                          in_memory=True).run()\n",
    "\n",
    "c_alphas = u.select_atoms('protein and name CA')\n",
    "R = rms.RMSF(c_alphas).run()"
   ]
  },
  {
   "cell_type": "code",
   "execution_count": null,
   "id": "dec01450-ec21-4de8-a4dd-6a41d5910118",
   "metadata": {},
   "outputs": [],
   "source": [
    "pd.DataFrame(c_alphas.resids, R.results.rmsf).to_csv(\"rmsf_cofac_antagonist.csv\")"
   ]
  },
  {
   "cell_type": "code",
   "execution_count": null,
   "id": "bcdd0d25-5d36-44a6-b09b-9bbdffe293c9",
   "metadata": {},
   "outputs": [],
   "source": [
    "fig = plt.figure(figsize=(6,4), dpi=100, facecolor=\"w\")\n",
    "plt.plot(c_alphas.resids, R.results.rmsf, '-o')\n",
    "plt.xlabel('Residue number')\n",
    "plt.ylabel('RMSF ($\\AA$)')\n",
    "# plt.axvspan(22, 86, zorder=0, alpha=0.2, color='orange', label='22-86')\n",
    "# plt.axvspan(158,172, zorder=0, alpha=0.2, color='green', label='158-172')\n",
    "# plt.axvspan(245, 245, zorder=0, alpha=0.2, color='blue', label='245')\n",
    "# plt.axvspan(358, 358, zorder=0, alpha=0.2, color='purple', label='358')\n",
    "# plt.axvspan(576, 576, zorder=0, alpha=0.2, color='red', label='576')\n",
    "# plt.axvspan(0, 100, zorder=0, alpha=0.2, color='green', label='NMP')\n",
    "#plt.legend()\n",
    "\n",
    "plt.tight_layout()\n",
    "plt.savefig(\"rmsf_COFAC_ANTAGO_plots.png\")"
   ]
  },
  {
   "cell_type": "markdown",
   "id": "856fec33-02ae-48a9-b350-572665744e19",
   "metadata": {},
   "source": [
    "Computing RMSD"
   ]
  },
  {
   "cell_type": "code",
   "execution_count": null,
   "id": "ce168d67-b5ed-4f27-b6bf-a52db78be4ba",
   "metadata": {},
   "outputs": [],
   "source": [
    "ref = u.trajectory[0]\n",
    "ref"
   ]
  },
  {
   "cell_type": "code",
   "execution_count": null,
   "id": "d3acda10-5fc9-4985-83fe-acb0bf526b58",
   "metadata": {},
   "outputs": [],
   "source": [
    "ref = u.trajectory[0]\n",
    "print(ref)\n",
    "print(u.select_atoms(\"protein\"))"
   ]
  },
  {
   "cell_type": "code",
   "execution_count": null,
   "id": "b6c3d5a0-ad2c-43fe-ba0a-5205d6e7faec",
   "metadata": {},
   "outputs": [],
   "source": [
    "ref = mda.Universe('firstframe2.pdb') \n",
    "R = mda.analysis.rms.RMSD(u, ref,\n",
    "           select=\"protein\")\n",
    "R.run()"
   ]
  },
  {
   "cell_type": "code",
   "execution_count": null,
   "id": "934e6aa3-9ef3-4e0e-bd7b-03bb156e52c1",
   "metadata": {},
   "outputs": [],
   "source": [
    "reference = mda.Universe('coavppar_agoinv.prmtop', '04_Prod_1.nc','04_Prod_2.nc', '04_Prod_3.nc', \n",
    "                 '04_Prod_4.nc', '04_Prod_5.nc', '04_Prod_6.nc')"
   ]
  },
  {
   "cell_type": "code",
   "execution_count": null,
   "id": "79690d85-e0c5-416b-84b3-a00cb04506d1",
   "metadata": {},
   "outputs": [],
   "source": [
    "# ref = mda.Universe('firstframe2.pdb') \n",
    "ref = reference. \n",
    "R = mda.analysis.rms.RMSD(u, reference,\n",
    "           select=\"backbone\",             # superimpose on whole backbone of the whole protein\n",
    "           groupselections=[\"resname EKP\", \"resid 83\"])                                    # NMP\n",
    "R.run()\n",
    "\n",
    "rmsd = R.rmsd.T   # transpose makes it easier for plotting\n",
    "time = rmsd[1]"
   ]
  },
  {
   "cell_type": "code",
   "execution_count": null,
   "id": "9a3da43a-75eb-43c4-b359-9e105b3d2ecc",
   "metadata": {},
   "outputs": [],
   "source": [
    "rmsd"
   ]
  },
  {
   "cell_type": "code",
   "execution_count": null,
   "id": "d81f5dbb-16c5-4219-b128-cd9b1d9303ba",
   "metadata": {},
   "outputs": [],
   "source": [
    "rmsd_all = pd.read_csv(\"rmsd_all.csv\", sep=\"\\t\")\n",
    "rmsd_ekp = pd.read_csv(\"rmsd_ekp.csv\", sep=\"\\t\")\n",
    "rmsd_phe = pd.read_csv(\"rmsd_phe83.csv\", sep=\"\\t\")"
   ]
  },
  {
   "cell_type": "code",
   "execution_count": null,
   "id": "7badfb52-b997-47c6-bc37-e941a1a7e306",
   "metadata": {},
   "outputs": [],
   "source": [
    "rmsd_1 = np.array([list(map(float, row[0].split())) for row in rmsd_all.to_numpy()])\n",
    "rmsd_2 = np.array([list(map(float, row[0].split())) for row in rmsd_ekp.to_numpy()])\n",
    "rmsd_3 = np.array([list(map(float, row[0].split())) for row in rmsd_phe.to_numpy()])"
   ]
  },
  {
   "cell_type": "code",
   "execution_count": null,
   "id": "b22552f5",
   "metadata": {},
   "outputs": [],
   "source": [
    "rmsd_2"
   ]
  },
  {
   "cell_type": "code",
   "execution_count": null,
   "id": "28ec9191",
   "metadata": {},
   "outputs": [],
   "source": [
    "pd.DataFrame({'time':rmsd_1[:,0], 'all':rmsd_1[:,1], 'ligand':rmsd_2[:,1], 'residues':rmsd_3[:,1]}).to_csv(\"rmsd_all_cofac_antago.csv\")"
   ]
  },
  {
   "cell_type": "code",
   "execution_count": null,
   "id": "0a81482f-964c-4187-8e56-a70cd51f9f0d",
   "metadata": {},
   "outputs": [],
   "source": [
    "fig = plt.figure(figsize=(8,6), dpi=100, facecolor=\"w\")\n",
    "ax = fig.add_subplot(111)\n",
    "ax.plot(rmsd_1[:,0], rmsd_1[:,1], 'k-',  label=\"all\")\n",
    "ax.plot(rmsd_1[:,0], rmsd_2[:,1], 'b--', label=\"Ligand\")\n",
    "ax.plot(rmsd_1[:,0], rmsd_3[:,1], '--', label=\"HIS$_{449}$ TYR$_{473}$\", c='tab:green')\n",
    "ax.legend(loc=\"best\")\n",
    "ax.set_xlabel(\"time (x10$^{2}$ ps)\")\n",
    "ax.set_ylabel(r\"RMSD ($\\AA$)\")\n",
    "fig.savefig(\"rmsd_COFAC_ANTAGO_plots.png\")"
   ]
  },
  {
   "cell_type": "markdown",
   "id": "5956d231-1850-4c9c-b066-25947fa5cae1",
   "metadata": {},
   "source": [
    "Computing PCA on scaled data: mixing distances and cross-corellation"
   ]
  },
  {
   "cell_type": "code",
   "execution_count": null,
   "id": "47f7552b",
   "metadata": {},
   "outputs": [],
   "source": [
    "from sklearn.preprocessing import StandardScaler, MinMaxScaler, MaxAbsScaler\n",
    "from sklearn.decomposition import PCA\n",
    "\n",
    "# data = pd.DataFrame([dist_1_hb, dist_2_hb, dist_1_pipi, dist_2_pipi, rmsd[2], rmsd[3], rmsd[4]])\n",
    "data = np.vstack([dist_1_pipi, rmsd_1[:,1], rmsd_2[:,1], rmsd_3[:,1]]).T\n",
    "# data = np.vstack([dist_1_hb, dist_1_pipi, rmsd[2], rmsd[3], rmsd[4]]).T\n",
    "df = pd.DataFrame(data)\n",
    "# scaler =  StandardScaler()\n",
    "X = df.to_numpy()\n",
    "scaler =  MinMaxScaler().fit(X)\n",
    "X_scaled = scaler.transform(X)\n",
    "X_scaled = scaler.fit_transform(X)\n",
    "X_scaled"
   ]
  },
  {
   "cell_type": "code",
   "execution_count": null,
   "id": "d24eb5fe",
   "metadata": {},
   "outputs": [],
   "source": [
    "pca = PCA(n_components=0.90)\n",
    "X_pca = pca.fit_transform(X_scaled)\n",
    "pca_variance = pca.explained_variance_\n",
    "print(pca_variance, pca.explained_variance_ratio_)\n",
    "pca_variance\n",
    "plt.figure(figsize=(8, 6))\n",
    "plt.bar(range(len(pca_variance)), pca_variance, alpha=0.5, align='center', label='individual variance')\n",
    "plt.legend()\n",
    "plt.ylabel('Variance ratio')\n",
    "plt.xlabel('Principal components')"
   ]
  },
  {
   "cell_type": "code",
   "execution_count": null,
   "id": "bf9c777a",
   "metadata": {},
   "outputs": [],
   "source": [
    "fig, axs= plt.subplots(1,2, figsize=(8,4), dpi=100, facecolor=\"w\")\n",
    "\n",
    "axs[0].scatter(X_pca[:,0], X_pca[:,1], edgecolor='black')\n",
    "axs[0].set_ylabel('PC1', fontsize=14)\n",
    "axs[0].set_xlabel('PC2', fontsize=14)\n",
    "axs[0].tick_params(axis='both', labelsize=12)\n",
    "\n",
    "axs[1].scatter(X_pca[:,0], X_pca[:,2], edgecolor='black')\n",
    "axs[1].set_ylabel('PC1', fontsize=14)\n",
    "axs[1].set_xlabel('PC3', fontsize=14)\n",
    "axs[1].tick_params(axis='both', labelsize=12)\n",
    "plt.tight_layout()\n",
    "# axs[0]t.savefig(\"pca_hessfit.png\")\n",
    "# plt.savefig(\"PCA12.png\")"
   ]
  },
  {
   "cell_type": "code",
   "execution_count": null,
   "id": "642443bc-49bb-4e37-b894-1ca29877c82b",
   "metadata": {},
   "outputs": [],
   "source": [
    "X_pca.shape"
   ]
  },
  {
   "cell_type": "markdown",
   "id": "287ede8c-8982-4ef6-b93b-bae5581680f8",
   "metadata": {},
   "source": [
    "Clustering with KMEANs"
   ]
  },
  {
   "cell_type": "code",
   "execution_count": null,
   "id": "e96fb708-8f9d-4772-9d4a-41b4bad01319",
   "metadata": {},
   "outputs": [],
   "source": [
    "kmin = 2\n",
    "kmax = 10\n",
    "niter = 1000"
   ]
  },
  {
   "cell_type": "code",
   "execution_count": null,
   "id": "fdc52d61-9a14-4b52-816f-4ba1a7a5ce1b",
   "metadata": {},
   "outputs": [],
   "source": [
    "import numpy as np\n",
    "from sklearn.cluster import KMeans\n",
    "from sklearn import metrics as skmetrics\n",
    "from matplotlib.ticker import MaxNLocator"
   ]
  },
  {
   "cell_type": "code",
   "execution_count": null,
   "id": "716d8bc3-beb8-4579-8398-49ea09b8f2f1",
   "metadata": {},
   "outputs": [],
   "source": [
    "validation2 = []\n",
    "for k in range(kmin, kmax + 1):  # Added +1 to include kmax\n",
    "    kmeans = KMeans(n_clusters=k, random_state=0)\n",
    "    kmeans.fit(X_pca)\n",
    "    # kmeans.fit(X_scaled)\n",
    "    clusters = kmeans.labels_\n",
    "    centers = kmeans.cluster_centers_\n",
    "\n",
    "    # psf = skmetrics.calinski_harabasz_score(X_scaled, clusters)\n",
    "    # wss = kmeans.inertia_\n",
    "    # DBI = skmetrics.davies_bouldin_score(X_scaled, clusters)\n",
    "    # sil = skmetrics.silhouette_score(X_scaled, clusters)\n",
    "\n",
    "    psf = skmetrics.calinski_harabasz_score(X_pca, clusters)\n",
    "    wss = kmeans.inertia_\n",
    "    DBI = skmetrics.davies_bouldin_score(X_pca, clusters)\n",
    "    sil = skmetrics.silhouette_score(X_pca, clusters)\n",
    "\n",
    "    validation2.append((k, wss, psf, DBI, sil))\n",
    "\n",
    "validation2 = np.asarray(validation2)\n"
   ]
  },
  {
   "cell_type": "code",
   "execution_count": null,
   "id": "690a71ad-4d58-4dd6-abbf-9ba2f7a23717",
   "metadata": {},
   "outputs": [],
   "source": [
    "fig=plt.figure(figsize=(8,6), dpi= 196, facecolor='w', edgecolor='k')\n",
    "plt.subplot(221)\n",
    "plt.title('WSS',fontsize=10)\n",
    "plt.plot(validation2[:,0], validation2[:,1], 'rs--', linewidth=1)\n",
    "ax =fig.gca()\n",
    "ax.xaxis.set_major_locator(MaxNLocator(integer=True))\n",
    "\n",
    "plt.subplot(222)\n",
    "plt.title('pSF',fontsize=10)\n",
    "plt.plot(validation2[:,0], validation2[:,2], 'rs--', linewidth=1)\n",
    "ax = fig.gca()\n",
    "ax.xaxis.set_major_locator(MaxNLocator(integer=True))\n",
    "\n",
    "plt.subplot(223)\n",
    "plt.title('DBI',fontsize=10)\n",
    "plt.plot(validation2[:,0], validation2[:,3], 'rs--', linewidth=1)\n",
    "ax = fig.gca()\n",
    "ax.xaxis.set_major_locator(MaxNLocator(integer=True))\n",
    "\n",
    "plt.subplot(224)\n",
    "plt.title('Silhouette score',fontsize=10)\n",
    "plt.plot(validation2[:,0], validation2[:,4], 'rs--',linewidth=1)\n",
    "ax = fig.gca()\n",
    "ax.xaxis.set_major_locator(MaxNLocator(integer=True))\n",
    "\n",
    "plt.tight_layout()\n",
    "\n",
    "plt.savefig(\"validation_scores_PCA_MD_COFAC_ANTAGO.png\", dpi=300)"
   ]
  },
  {
   "cell_type": "markdown",
   "id": "a0464ec3-cabe-4933-9f9c-146f5cabf0fc",
   "metadata": {},
   "source": [
    "five clusters centroids found !"
   ]
  },
  {
   "cell_type": "code",
   "execution_count": null,
   "id": "c507c778-4506-410d-9ab8-e1ccb28db843",
   "metadata": {},
   "outputs": [],
   "source": [
    "X_pca"
   ]
  },
  {
   "cell_type": "code",
   "execution_count": null,
   "id": "5a269d94-4837-4440-9ab1-94313c1ca794",
   "metadata": {},
   "outputs": [],
   "source": [
    "kmeans = KMeans(n_clusters=3, random_state=0, tol=1e-9, max_iter=1000)\n",
    "kmeans.fit(X_pca)\n",
    "# kmeans.fit(X_scaled)\n",
    "clusters = kmeans.labels_\n",
    "centers = kmeans.cluster_centers_"
   ]
  },
  {
   "cell_type": "code",
   "execution_count": null,
   "id": "c4f61489-bc4b-4ddd-9145-fcf384817464",
   "metadata": {},
   "outputs": [],
   "source": [
    "X_pca.shape"
   ]
  },
  {
   "cell_type": "code",
   "execution_count": null,
   "id": "7e1bd71a-eb36-45eb-a4e5-8be2f609790f",
   "metadata": {},
   "outputs": [],
   "source": [
    "centers[:,0]"
   ]
  },
  {
   "cell_type": "code",
   "execution_count": null,
   "id": "9d2d71c7-121f-4fb9-9061-f16cda2b243c",
   "metadata": {},
   "outputs": [],
   "source": [
    "print(X_pca[:10,0])\n",
    "print(X_pca[:10,0].round(5))"
   ]
  },
  {
   "cell_type": "code",
   "execution_count": null,
   "id": "2dff291b-2460-4488-9d77-5662809428aa",
   "metadata": {},
   "outputs": [],
   "source": [
    "from scipy.spatial import distance\n",
    "indices = []\n",
    "for centroid in centers:\n",
    "    closest_index = np.argmin([distance.euclidean(centroid, point) for point in X_pca])\n",
    "    indices.append(closest_index)"
   ]
  },
  {
   "cell_type": "code",
   "execution_count": null,
   "id": "5d8333fa-83cc-4d0d-bce6-7949479aeb34",
   "metadata": {},
   "outputs": [],
   "source": [
    "indices"
   ]
  },
  {
   "cell_type": "code",
   "execution_count": null,
   "id": "ad30cfa5-9b09-42d6-91b2-74be0f94db0e",
   "metadata": {},
   "outputs": [],
   "source": [
    "pd.Series(indices).to_csv(\"indices_centroids_frame_COFAC_ANTAGO.txt\")"
   ]
  },
  {
   "cell_type": "code",
   "execution_count": null,
   "id": "d0dd0935-fe85-46a1-826a-2f07e688ea33",
   "metadata": {},
   "outputs": [],
   "source": [
    "# plt.figure(figsize=(10,8), dpi=196, facecolor=\"w\")\n",
    "\n",
    "# plt.scatter(np.arange(X_scaled.shape[0]), X_scaled[:,0], c=clusters, edgecolors='k')\n",
    "# plt.scatter(indices, centers[:, 1], marker='x', s=200, color='red', label='Centroids')\n",
    "# plt.scatter(indices, centers[:, 1], marker='x', s=200, color='red', label='Centroids')\n",
    "# plt.xlabel('time (x10$^{2}$ ps)')\n",
    "# plt.ylabel('HIS$_{243}$-Lig$_{pyrrole}$ scaled ($\\AA$)')"
   ]
  },
  {
   "cell_type": "code",
   "execution_count": null,
   "id": "77af879b-788f-40a1-a14d-6d88b4576c72",
   "metadata": {},
   "outputs": [],
   "source": [
    "fig, axs= plt.subplots(1,2, figsize=(8,4), dpi=196, facecolor=\"w\")\n",
    "\n",
    "# axs[0].scatter(X_pca[:,0], X_pca[:,1], edgecolor='black')\n",
    "axs[0].scatter(X_pca[:,0], X_pca[:,1], c=clusters, edgecolor='black')\n",
    "axs[0].scatter(centers[:,0], centers[:,1], marker='x', s=200, color='red')\n",
    "axs[0].set_ylabel('PC1', fontsize=14)\n",
    "axs[0].set_xlabel('PC2', fontsize=14)\n",
    "axs[0].tick_params(axis='both', labelsize=12)\n",
    "\n",
    "# axs[1].scatter(X_pca[:,0], X_pca[:,2], edgecolor='black')\n",
    "axs[1].scatter(X_pca[:,0], X_pca[:,2], c=clusters, edgecolor='black')\n",
    "axs[1].scatter(centers[:,0], centers[:,2], marker='x', s=200, color='red')\n",
    "axs[1].set_ylabel('PC1', fontsize=14)\n",
    "axs[1].set_xlabel('PC3', fontsize=14)\n",
    "axs[1].tick_params(axis='both', labelsize=12)\n",
    "\n",
    "plt.tight_layout()\n",
    "plt.savefig(\"PCA_clusters_MD_COFAC_ANTAGO.png\")"
   ]
  },
  {
   "cell_type": "markdown",
   "id": "cfb8944e-04e0-4b01-9cd8-2a66c275b691",
   "metadata": {},
   "source": [
    " writing clister centroids as pdbs"
   ]
  },
  {
   "cell_type": "code",
   "execution_count": null,
   "id": "d6923594-ce68-4f0e-ab62-0672e5960e41",
   "metadata": {},
   "outputs": [],
   "source": [
    "ag = u.select_atoms(\"not resname HOH WAT H2O\")\n",
    "with mda.Writer('centroids_COFAC_ANTAGO.pdb', ag.n_atoms) as w:\n",
    "    for ts in u.trajectory[indices]:\n",
    "        w.write(ag)\n"
   ]
  }
 ],
 "metadata": {
  "kernelspec": {
   "display_name": "Python 3 (ipykernel)",
   "language": "python",
   "name": "python3"
  },
  "language_info": {
   "codemirror_mode": {
    "name": "ipython",
    "version": 3
   },
   "file_extension": ".py",
   "mimetype": "text/x-python",
   "name": "python",
   "nbconvert_exporter": "python",
   "pygments_lexer": "ipython3",
   "version": "3.8.10"
  }
 },
 "nbformat": 4,
 "nbformat_minor": 5
}
